{
 "cells": [
  {
   "cell_type": "code",
   "execution_count": 31,
   "metadata": {},
   "outputs": [],
   "source": [
    "import pyautogui as pg\n",
    "import numpy as np\n",
    "import time\n",
    "import cv2"
   ]
  },
  {
   "cell_type": "code",
   "execution_count": 32,
   "metadata": {},
   "outputs": [],
   "source": [
    "clash_royale = pg.getWindowsWithTitle('Clash Royale')[0]"
   ]
  },
  {
   "cell_type": "code",
   "execution_count": 33,
   "metadata": {},
   "outputs": [],
   "source": [
    "clash_royale.maximize()\n",
    "clash_royale.moveTo(1200,1)"
   ]
  },
  {
   "cell_type": "code",
   "execution_count": 24,
   "metadata": {},
   "outputs": [],
   "source": [
    "#centreofscreen = clash_royale.center"
   ]
  },
  {
   "cell_type": "code",
   "execution_count": 25,
   "metadata": {},
   "outputs": [],
   "source": [
    "#pg.click(centreofscreen)"
   ]
  },
  {
   "cell_type": "code",
   "execution_count": 32,
   "metadata": {},
   "outputs": [],
   "source": [
    "randXBattle = np.random.choice([1489,1435,1485])\n",
    "randYBattle = np.random.choice([662,650,689])"
   ]
  },
  {
   "cell_type": "code",
   "execution_count": 34,
   "metadata": {},
   "outputs": [],
   "source": [
    "pg.click(randXBattle,randYBattle)"
   ]
  },
  {
   "cell_type": "code",
   "execution_count": 35,
   "metadata": {},
   "outputs": [],
   "source": [
    "randXOK = np.random.choice([1484,1515,1437])\n",
    "randYOK = np.random.choice([890,893,899])"
   ]
  },
  {
   "cell_type": "code",
   "execution_count": 36,
   "metadata": {},
   "outputs": [],
   "source": [
    "pg.click(randXOK,randYOK)"
   ]
  },
  {
   "cell_type": "code",
   "execution_count": 14,
   "metadata": {},
   "outputs": [],
   "source": [
    "def findImageThenClick(img_name, ConfidLvL=.9, MouseSpeedTime=.25, Move=True):\n",
    "    a = pg.locateCenterOnScreen(img_name, confidence=ConfidLvL)\n",
    "    pg.moveTo(a[0],a[1], MouseSpeedTime)\n",
    "    pg.click()"
   ]
  },
  {
   "cell_type": "code",
   "execution_count": 17,
   "metadata": {},
   "outputs": [],
   "source": [
    "coo = pg.locateOnScreen(r\"images/BattleButton.png\", confidence=0.9)"
   ]
  },
  {
   "cell_type": "code",
   "execution_count": 18,
   "metadata": {},
   "outputs": [
    {
     "data": {
      "text/plain": [
       "False"
      ]
     },
     "execution_count": 18,
     "metadata": {},
     "output_type": "execute_result"
    }
   ],
   "source": [
    "coo == None"
   ]
  },
  {
   "cell_type": "code",
   "execution_count": 19,
   "metadata": {},
   "outputs": [],
   "source": [
    "coo = findImageThenClick(r'images/BattleButton.png')"
   ]
  },
  {
   "cell_type": "code",
   "execution_count": 20,
   "metadata": {},
   "outputs": [],
   "source": [
    "def checker():\n",
    "    while True :\n",
    "        checker = pg.locateOnScreen(r\"images/BattleButton.png\", confidence=0.9)\n",
    "        if checker == None:\n",
    "            print('In Battle!!!!!!')\n",
    "        else :\n",
    "            print('Not in battle!!')\n"
   ]
  },
  {
   "cell_type": "code",
   "execution_count": 24,
   "metadata": {},
   "outputs": [],
   "source": [
    "def InBattle():\n",
    "    while True :\n",
    "        checker = pg.locateOnScreen(r\"images/BattleButton.png\", confidence=0.9)\n",
    "        if checker == None:\n",
    "            return True\n",
    "        else :\n",
    "            return False"
   ]
  },
  {
   "cell_type": "code",
   "execution_count": 25,
   "metadata": {},
   "outputs": [
    {
     "data": {
      "text/plain": [
       "False"
      ]
     },
     "execution_count": 25,
     "metadata": {},
     "output_type": "execute_result"
    }
   ],
   "source": [
    "InBattle()"
   ]
  },
  {
   "cell_type": "code",
   "execution_count": 28,
   "metadata": {},
   "outputs": [],
   "source": [
    "def InBattle():\n",
    "    while True :\n",
    "        time.sleep(10)\n",
    "        checker = pg.locateOnScreen(r\"images/BattleButton.png\", confidence=0.9)\n",
    "        if checker == None:\n",
    "            state = True\n",
    "        else :\n",
    "            state = False"
   ]
  },
  {
   "cell_type": "code",
   "execution_count": 36,
   "metadata": {},
   "outputs": [],
   "source": [
    "def findImageThenClick(img_name, ConfidLvL=.9, MouseSpeedTime=.25, Move=True):\n",
    "    a = pg.locateCenterOnScreen(img_name, confidence=ConfidLvL)\n",
    "    pg.moveTo(a[0],a[1], MouseSpeedTime)\n",
    "    pg.click()\n",
    "\n",
    "findImageThenClick(r\"images/MegaKnight.png\")"
   ]
  },
  {
   "cell_type": "code",
   "execution_count": 88,
   "metadata": {},
   "outputs": [
    {
     "ename": "KeyboardInterrupt",
     "evalue": "",
     "output_type": "error",
     "traceback": [
      "\u001b[1;31m---------------------------------------------------------------------------\u001b[0m",
      "\u001b[1;31mKeyboardInterrupt\u001b[0m                         Traceback (most recent call last)",
      "Cell \u001b[1;32mIn[88], line 12\u001b[0m\n\u001b[0;32m     10\u001b[0m \u001b[38;5;28;01mwhile\u001b[39;00m \u001b[38;5;28;01mTrue\u001b[39;00m:\n\u001b[0;32m     11\u001b[0m     a \u001b[38;5;241m=\u001b[39m pg\u001b[38;5;241m.\u001b[39mlocateCenterOnScreen(\u001b[38;5;124mr\u001b[39m\u001b[38;5;124m'\u001b[39m\u001b[38;5;124mimages/BattleButton.png\u001b[39m\u001b[38;5;124m'\u001b[39m, confidence\u001b[38;5;241m=\u001b[39m\u001b[38;5;241m0.9\u001b[39m)\n\u001b[1;32m---> 12\u001b[0m     p \u001b[38;5;241m=\u001b[39m \u001b[43mpg\u001b[49m\u001b[38;5;241;43m.\u001b[39;49m\u001b[43mlocateCenterOnScreen\u001b[49m\u001b[43m(\u001b[49m\u001b[38;5;124;43mr\u001b[39;49m\u001b[38;5;124;43m'\u001b[39;49m\u001b[38;5;124;43mimages/Pekka.png\u001b[39;49m\u001b[38;5;124;43m'\u001b[39;49m\u001b[43m,\u001b[49m\u001b[43m \u001b[49m\u001b[43mconfidence\u001b[49m\u001b[38;5;241;43m=\u001b[39;49m\u001b[38;5;241;43m0.8\u001b[39;49m\u001b[43m)\u001b[49m\n\u001b[0;32m     13\u001b[0m     mg \u001b[38;5;241m=\u001b[39m pg\u001b[38;5;241m.\u001b[39mlocateCenterOnScreen(\u001b[38;5;124mr\u001b[39m\u001b[38;5;124m'\u001b[39m\u001b[38;5;124mimages/MegaKnight.png\u001b[39m\u001b[38;5;124m'\u001b[39m,confidence\u001b[38;5;241m=\u001b[39m\u001b[38;5;241m0.8\u001b[39m)\n\u001b[0;32m     14\u001b[0m     hr \u001b[38;5;241m=\u001b[39m pg\u001b[38;5;241m.\u001b[39mlocateCenterOnScreen(\u001b[38;5;124mr\u001b[39m\u001b[38;5;124m'\u001b[39m\u001b[38;5;124mimages/HogRider.png\u001b[39m\u001b[38;5;124m'\u001b[39m,confidence\u001b[38;5;241m=\u001b[39m\u001b[38;5;241m0.8\u001b[39m)\n",
      "File \u001b[1;32mc:\\Users\\Dell\\AppData\\Local\\Programs\\Python\\Python311\\Lib\\site-packages\\pyautogui\\__init__.py:172\u001b[0m, in \u001b[0;36mraisePyAutoGUIImageNotFoundException.<locals>.wrapper\u001b[1;34m(*args, **kwargs)\u001b[0m\n\u001b[0;32m    169\u001b[0m \u001b[38;5;129m@functools\u001b[39m\u001b[38;5;241m.\u001b[39mwraps(wrappedFunction)\n\u001b[0;32m    170\u001b[0m \u001b[38;5;28;01mdef\u001b[39;00m \u001b[38;5;21mwrapper\u001b[39m(\u001b[38;5;241m*\u001b[39margs, \u001b[38;5;241m*\u001b[39m\u001b[38;5;241m*\u001b[39mkwargs):\n\u001b[0;32m    171\u001b[0m     \u001b[38;5;28;01mtry\u001b[39;00m:\n\u001b[1;32m--> 172\u001b[0m         \u001b[38;5;28;01mreturn\u001b[39;00m \u001b[43mwrappedFunction\u001b[49m\u001b[43m(\u001b[49m\u001b[38;5;241;43m*\u001b[39;49m\u001b[43margs\u001b[49m\u001b[43m,\u001b[49m\u001b[43m \u001b[49m\u001b[38;5;241;43m*\u001b[39;49m\u001b[38;5;241;43m*\u001b[39;49m\u001b[43mkwargs\u001b[49m\u001b[43m)\u001b[49m\n\u001b[0;32m    173\u001b[0m     \u001b[38;5;28;01mexcept\u001b[39;00m pyscreeze\u001b[38;5;241m.\u001b[39mImageNotFoundException:\n\u001b[0;32m    174\u001b[0m         \u001b[38;5;28;01mraise\u001b[39;00m ImageNotFoundException\n",
      "File \u001b[1;32mc:\\Users\\Dell\\AppData\\Local\\Programs\\Python\\Python311\\Lib\\site-packages\\pyautogui\\__init__.py:204\u001b[0m, in \u001b[0;36mlocateCenterOnScreen\u001b[1;34m(*args, **kwargs)\u001b[0m\n\u001b[0;32m    202\u001b[0m \u001b[38;5;129m@raisePyAutoGUIImageNotFoundException\u001b[39m\n\u001b[0;32m    203\u001b[0m \u001b[38;5;28;01mdef\u001b[39;00m \u001b[38;5;21mlocateCenterOnScreen\u001b[39m(\u001b[38;5;241m*\u001b[39margs, \u001b[38;5;241m*\u001b[39m\u001b[38;5;241m*\u001b[39mkwargs):\n\u001b[1;32m--> 204\u001b[0m     \u001b[38;5;28;01mreturn\u001b[39;00m \u001b[43mpyscreeze\u001b[49m\u001b[38;5;241;43m.\u001b[39;49m\u001b[43mlocateCenterOnScreen\u001b[49m\u001b[43m(\u001b[49m\u001b[38;5;241;43m*\u001b[39;49m\u001b[43margs\u001b[49m\u001b[43m,\u001b[49m\u001b[43m \u001b[49m\u001b[38;5;241;43m*\u001b[39;49m\u001b[38;5;241;43m*\u001b[39;49m\u001b[43mkwargs\u001b[49m\u001b[43m)\u001b[49m\n",
      "File \u001b[1;32mc:\\Users\\Dell\\AppData\\Local\\Programs\\Python\\Python311\\Lib\\site-packages\\pyscreeze\\__init__.py:420\u001b[0m, in \u001b[0;36mlocateCenterOnScreen\u001b[1;34m(image, **kwargs)\u001b[0m\n\u001b[0;32m    416\u001b[0m \u001b[38;5;28;01mdef\u001b[39;00m \u001b[38;5;21mlocateCenterOnScreen\u001b[39m(image, \u001b[38;5;241m*\u001b[39m\u001b[38;5;241m*\u001b[39mkwargs):\n\u001b[0;32m    417\u001b[0m \u001b[38;5;250m    \u001b[39m\u001b[38;5;124;03m\"\"\"\u001b[39;00m\n\u001b[0;32m    418\u001b[0m \u001b[38;5;124;03m    TODO\u001b[39;00m\n\u001b[0;32m    419\u001b[0m \u001b[38;5;124;03m    \"\"\"\u001b[39;00m\n\u001b[1;32m--> 420\u001b[0m     coords \u001b[38;5;241m=\u001b[39m \u001b[43mlocateOnScreen\u001b[49m\u001b[43m(\u001b[49m\u001b[43mimage\u001b[49m\u001b[43m,\u001b[49m\u001b[43m \u001b[49m\u001b[38;5;241;43m*\u001b[39;49m\u001b[38;5;241;43m*\u001b[39;49m\u001b[43mkwargs\u001b[49m\u001b[43m)\u001b[49m\n\u001b[0;32m    421\u001b[0m     \u001b[38;5;28;01mif\u001b[39;00m coords \u001b[38;5;129;01mis\u001b[39;00m \u001b[38;5;28;01mNone\u001b[39;00m:\n\u001b[0;32m    422\u001b[0m         \u001b[38;5;28;01mreturn\u001b[39;00m \u001b[38;5;28;01mNone\u001b[39;00m\n",
      "File \u001b[1;32mc:\\Users\\Dell\\AppData\\Local\\Programs\\Python\\Python311\\Lib\\site-packages\\pyscreeze\\__init__.py:378\u001b[0m, in \u001b[0;36mlocateOnScreen\u001b[1;34m(image, minSearchTime, **kwargs)\u001b[0m\n\u001b[0;32m    374\u001b[0m \u001b[38;5;28;01mtry\u001b[39;00m:\n\u001b[0;32m    375\u001b[0m     screenshotIm \u001b[38;5;241m=\u001b[39m screenshot(\n\u001b[0;32m    376\u001b[0m         region\u001b[38;5;241m=\u001b[39m\u001b[38;5;28;01mNone\u001b[39;00m\n\u001b[0;32m    377\u001b[0m     )  \u001b[38;5;66;03m# the locateAll() function must handle cropping to return accurate coordinates, so don't pass a region here.\u001b[39;00m\n\u001b[1;32m--> 378\u001b[0m     retVal \u001b[38;5;241m=\u001b[39m \u001b[43mlocate\u001b[49m\u001b[43m(\u001b[49m\u001b[43mimage\u001b[49m\u001b[43m,\u001b[49m\u001b[43m \u001b[49m\u001b[43mscreenshotIm\u001b[49m\u001b[43m,\u001b[49m\u001b[43m \u001b[49m\u001b[38;5;241;43m*\u001b[39;49m\u001b[38;5;241;43m*\u001b[39;49m\u001b[43mkwargs\u001b[49m\u001b[43m)\u001b[49m\n\u001b[0;32m    379\u001b[0m     \u001b[38;5;28;01mtry\u001b[39;00m:\n\u001b[0;32m    380\u001b[0m         screenshotIm\u001b[38;5;241m.\u001b[39mfp\u001b[38;5;241m.\u001b[39mclose()\n",
      "File \u001b[1;32mc:\\Users\\Dell\\AppData\\Local\\Programs\\Python\\Python311\\Lib\\site-packages\\pyscreeze\\__init__.py:356\u001b[0m, in \u001b[0;36mlocate\u001b[1;34m(needleImage, haystackImage, **kwargs)\u001b[0m\n\u001b[0;32m    354\u001b[0m \u001b[38;5;66;03m# Note: The gymnastics in this function is because we want to make sure to exhaust the iterator so that the needle and haystack files are closed in locateAll.\u001b[39;00m\n\u001b[0;32m    355\u001b[0m kwargs[\u001b[38;5;124m'\u001b[39m\u001b[38;5;124mlimit\u001b[39m\u001b[38;5;124m'\u001b[39m] \u001b[38;5;241m=\u001b[39m \u001b[38;5;241m1\u001b[39m\n\u001b[1;32m--> 356\u001b[0m points \u001b[38;5;241m=\u001b[39m \u001b[38;5;28mtuple\u001b[39m(locateAll(needleImage, haystackImage, \u001b[38;5;241m*\u001b[39m\u001b[38;5;241m*\u001b[39mkwargs))\n\u001b[0;32m    357\u001b[0m \u001b[38;5;28;01mif\u001b[39;00m \u001b[38;5;28mlen\u001b[39m(points) \u001b[38;5;241m>\u001b[39m \u001b[38;5;241m0\u001b[39m:\n\u001b[0;32m    358\u001b[0m     \u001b[38;5;28;01mreturn\u001b[39;00m points[\u001b[38;5;241m0\u001b[39m]\n",
      "File \u001b[1;32mc:\\Users\\Dell\\AppData\\Local\\Programs\\Python\\Python311\\Lib\\site-packages\\pyscreeze\\__init__.py:207\u001b[0m, in \u001b[0;36m_locateAll_opencv\u001b[1;34m(needleImage, haystackImage, grayscale, limit, region, step, confidence)\u001b[0m\n\u001b[0;32m    205\u001b[0m needleImage \u001b[38;5;241m=\u001b[39m _load_cv2(needleImage, grayscale)\n\u001b[0;32m    206\u001b[0m needleHeight, needleWidth \u001b[38;5;241m=\u001b[39m needleImage\u001b[38;5;241m.\u001b[39mshape[:\u001b[38;5;241m2\u001b[39m]\n\u001b[1;32m--> 207\u001b[0m haystackImage \u001b[38;5;241m=\u001b[39m \u001b[43m_load_cv2\u001b[49m\u001b[43m(\u001b[49m\u001b[43mhaystackImage\u001b[49m\u001b[43m,\u001b[49m\u001b[43m \u001b[49m\u001b[43mgrayscale\u001b[49m\u001b[43m)\u001b[49m\n\u001b[0;32m    209\u001b[0m \u001b[38;5;28;01mif\u001b[39;00m region:\n\u001b[0;32m    210\u001b[0m     haystackImage \u001b[38;5;241m=\u001b[39m haystackImage[region[\u001b[38;5;241m1\u001b[39m] : region[\u001b[38;5;241m1\u001b[39m] \u001b[38;5;241m+\u001b[39m region[\u001b[38;5;241m3\u001b[39m], region[\u001b[38;5;241m0\u001b[39m] : region[\u001b[38;5;241m0\u001b[39m] \u001b[38;5;241m+\u001b[39m region[\u001b[38;5;241m2\u001b[39m]]\n",
      "File \u001b[1;32mc:\\Users\\Dell\\AppData\\Local\\Programs\\Python\\Python311\\Lib\\site-packages\\pyscreeze\\__init__.py:181\u001b[0m, in \u001b[0;36m_load_cv2\u001b[1;34m(img, grayscale)\u001b[0m\n\u001b[0;32m    178\u001b[0m \u001b[38;5;28;01melif\u001b[39;00m \u001b[38;5;28mhasattr\u001b[39m(img, \u001b[38;5;124m'\u001b[39m\u001b[38;5;124mconvert\u001b[39m\u001b[38;5;124m'\u001b[39m):\n\u001b[0;32m    179\u001b[0m     \u001b[38;5;66;03m# assume its a PIL.Image, convert to cv format\u001b[39;00m\n\u001b[0;32m    180\u001b[0m     img_array \u001b[38;5;241m=\u001b[39m numpy\u001b[38;5;241m.\u001b[39marray(img\u001b[38;5;241m.\u001b[39mconvert(\u001b[38;5;124m'\u001b[39m\u001b[38;5;124mRGB\u001b[39m\u001b[38;5;124m'\u001b[39m))\n\u001b[1;32m--> 181\u001b[0m     img_cv \u001b[38;5;241m=\u001b[39m img_array[:, :, ::\u001b[38;5;241m-\u001b[39m\u001b[38;5;241m1\u001b[39m]\u001b[38;5;241m.\u001b[39mcopy()  \u001b[38;5;66;03m# -1 does RGB -> BGR\u001b[39;00m\n\u001b[0;32m    182\u001b[0m     \u001b[38;5;28;01mif\u001b[39;00m grayscale:\n\u001b[0;32m    183\u001b[0m         img_cv \u001b[38;5;241m=\u001b[39m cv2\u001b[38;5;241m.\u001b[39mcvtColor(img_cv, cv2\u001b[38;5;241m.\u001b[39mCOLOR_BGR2GRAY)\n",
      "\u001b[1;31mKeyboardInterrupt\u001b[0m: "
     ]
    }
   ],
   "source": [
    "import pyautogui as pg\n",
    "import numpy as np\n",
    "\n",
    "clash_royale = pg.getWindowsWithTitle('Clash Royale')[0]\n",
    "clash_royale.maximize()\n",
    "clash_royale.moveTo(1200,1)\n",
    "\n",
    "\n",
    "#Game loop \n",
    "while True:\n",
    "    a = pg.locateCenterOnScreen(r'images/BattleButton.png', confidence=0.9)\n",
    "    p = pg.locateCenterOnScreen(r'images/Pekka.png', confidence=0.8)\n",
    "    mg = pg.locateCenterOnScreen(r'images/MegaKnight.png',confidence=0.8)\n",
    "    hr = pg.locateCenterOnScreen(r'images/HogRider.png',confidence=0.8)\n",
    "    gg = pg.locateCenterOnScreen(r'images/GoblinGiant.png',confidence=0.8)\n",
    "    \n",
    "\n",
    "    if a != None: \n",
    "        pg.moveTo(a[0],a[1], 0.05)\n",
    "        pg.click()\n",
    "        \n",
    "    else:\n",
    "        if p != None :\n",
    "            pg.moveTo(p[0],p[1], 0.05)\n",
    "            pg.click()\n",
    "            pg.moveTo(np.random.randint(1266,1420),np.random.randint(685,740),0.05)\n",
    "            pg.click()\n",
    "            #break\n",
    "        elif mg!= None:\n",
    "            pg.moveTo(mg[0],mg[1], 0.05)\n",
    "            pg.click()\n",
    "            #if a == 1:\n",
    "            pg.moveTo(np.random.randint(1266,1707),np.random.randint(685,767),0.05)\n",
    "            #else:\n",
    "            #    pg.moveTo(np.random.randint(1541,),np.random.randint(688,767),0.05)\n",
    "            pg.click()\n",
    "        elif hr!= None:\n",
    "            pg.moveTo(hr[0],hr[1], 0.05)\n",
    "            pg.click()\n",
    "            pg.moveTo(np.random.randint(1266,1420),np.random.randint(685,740),0.05)\n",
    "            pg.click()\n",
    "        elif gg!= None:\n",
    "            pg.moveTo(gg[0],gg[1], 0.05)\n",
    "            pg.click()\n",
    "            pg.moveTo(np.random.randint(1266,1420),np.random.randint(685,740),0.05)\n",
    "            pg.click()\n",
    "        elif gg!= None:\n",
    "            pg.moveTo(gg[0],gg[1], 0.05)\n",
    "            pg.click()\n",
    "            pg.moveTo(np.random.randint(1266,1420),np.random.randint(685,740),0.05)\n",
    "            pg.click()"
   ]
  },
  {
   "cell_type": "code",
   "execution_count": 84,
   "metadata": {},
   "outputs": [],
   "source": [
    "a = np.random.randint(0,2) "
   ]
  },
  {
   "cell_type": "code",
   "execution_count": 6,
   "metadata": {},
   "outputs": [
    {
     "name": "stdout",
     "output_type": "stream",
     "text": [
      "OPENING GOOGLE PLAY GAMES BETA\n"
     ]
    }
   ],
   "source": [
    "from AppOpener import open\n",
    "import pyautogui as pg\n",
    "import time\n",
    "open(\"Google Play Games Beta\") \n",
    "time.sleep(5)\n",
    "googlepg = pg.getWindowsWithTitle('Google Play Games Beta')[0]\n",
    "googlepg.maximize()\n",
    "#googlepg.moveTo(1200,1)\n",
    "def findImageThenClick(img_name, ConfidLvL=.9, MouseSpeedTime=.25, Move=True):\n",
    "    a = pg.locateCenterOnScreen(img_name, confidence=ConfidLvL)\n",
    "    pg.moveTo(a[0],a[1], MouseSpeedTime)\n",
    "    pg.click()\n",
    "findImageThenClick(r'images/Library.png')\n",
    "time.sleep(5)\n",
    "findImageThenClick(r'images/Start.png')\n"
   ]
  },
  {
   "cell_type": "code",
   "execution_count": null,
   "metadata": {},
   "outputs": [],
   "source": []
  }
 ],
 "metadata": {
  "kernelspec": {
   "display_name": "Python 3",
   "language": "python",
   "name": "python3"
  },
  "language_info": {
   "codemirror_mode": {
    "name": "ipython",
    "version": 3
   },
   "file_extension": ".py",
   "mimetype": "text/x-python",
   "name": "python",
   "nbconvert_exporter": "python",
   "pygments_lexer": "ipython3",
   "version": "3.11.5"
  }
 },
 "nbformat": 4,
 "nbformat_minor": 2
}
